{
 "cells": [
  {
   "cell_type": "markdown",
   "metadata": {},
   "source": [
    "Most labeling tools out there do not allow user to create custom labels. Purpose of this project is to give you a framework which you can edit so you don't have to start from scratch like I did.\n",
    "This is a sample framework forlabeling custom labels for small scale labeling. We used this framework to label two polynomials to an image. Polynomial labels are the coefficients of the polynomial. You can edit the code to make it label anything you want such as face landmark points etc."
   ]
  },
  {
   "cell_type": "code",
   "execution_count": 1,
   "metadata": {},
   "outputs": [],
   "source": [
    "import sys\n",
    "import math\n",
    "import cv2\n",
    "import numpy as np\n",
    "import pandas as pd\n",
    "import pickle"
   ]
  },
  {
   "cell_type": "markdown",
   "metadata": {},
   "source": [
    "These are the helper functions. *on_mouse* function is a callback function for mouse click. *get_poly* fitsh a second order polynomial from points given as input and returns its coefficients. *get_poly_points* calculates back the points from the polynomial coefficients. This fınction is used for visualization of polynomial. *draw_lines* uses *get_poly_points* to get polynomial points and visualizes it."
   ]
  },
  {
   "cell_type": "code",
   "execution_count": 2,
   "metadata": {},
   "outputs": [],
   "source": [
    "def on_mouse(event, x, y, flags, params):# Callback for mouse event. \n",
    "        if event == cv2.EVENT_LBUTTONDOWN:# If we left clicked\n",
    "             #print('Mouse Position: '+str(x)+', '+str(y)) #For debug purposes\n",
    "             global point # Define this as global so we can use it outside this function as well\n",
    "             point = [x, y]#Store cursor position\n",
    "             # Don't know how but we can access variables outside the function as well.\n",
    "             cv2.circle(imag,(x,y),3,(255,0,0),-1)#Draw the point so we can see it.\n",
    "             draw_lines(imag,poly_left,poly_right,w)#Redraw the polynomials. Just in case :)\n",
    "             cv2.imshow('image', imag)# Show the image\n",
    "def get_poly_points(poly,h,num_poly=10):\n",
    "    #I don't think I need to explain this.\n",
    "    y = np.arange(0, h, h/num_poly)\n",
    "    c=poly[0]\n",
    "    b=poly[1]\n",
    "    a=poly[2]\n",
    "    x = a*y*y+b*y+c\n",
    "    return np.vstack([x, y]).T.reshape((-1,1,2))\n",
    "def get_poly(pointsr):\n",
    "    #This one is pretty self explainatory\n",
    "    points =np.array(pointsr)\n",
    "    #print(points[:,0])\n",
    "    x1=points[:,0]\n",
    "    y1=points[:,1]\n",
    "    return np.polynomial.polynomial.polyfit(y1 ,x1, 2)\n",
    "def draw_lines(imag,poly_left,poly_right,h):\n",
    "    #Get points from polynomial coefficients. For our application we had left polynomial and right polynomial.\n",
    "    poly_pts_left = get_poly_points(poly_left,h,100)\n",
    "    poly_pts_right = get_poly_points(poly_right,h,100)\n",
    "    #Draw obtained points.\n",
    "    cv2.polylines(imag,[np.int32(poly_pts_left)],False,(0,0,255),3)\n",
    "    cv2.polylines(imag,[np.int32(poly_pts_right)],False,(0,255,255),3)"
   ]
  },
  {
   "cell_type": "markdown",
   "metadata": {},
   "source": [
    "A CSV file will be used to store our labels. Before you start labeling, you must create an initial CSV file that contains all your image paths and an initial value for labels. We will overwrite these initial values when we label. You can create this CSV file by using \"create_csv.py\" script. You have to edit your folder name accordingly in the script because I am too lazy to implement passing command line arguments. :)\n",
    "If you labeled some images and decided to continue tomorrow. You must not recreate CSV file!! (I know it is obvious but just in case)"
   ]
  },
  {
   "cell_type": "code",
   "execution_count": 3,
   "metadata": {
    "scrolled": false
   },
   "outputs": [
    {
     "name": "stdout",
     "output_type": "stream",
     "text": [
      "/home/user/Desktop/Huzeyfe_KILIC/custom_labelig_framework/frames1/frame0239.jpg\n"
     ]
    }
   ],
   "source": [
    "# Name of the CSV file to be edited. If this first time of labeling you should have created a empty and default \n",
    "#csv file containing all image paths and default label values with \"Create_csv.py \".\n",
    "csv_file=\"dataset.csv\"\n",
    "csv_frame=pd.read_csv(csv_file)#Lets read that CSV file with pandas\n",
    "image_paths = csv_frame.iloc[:, 0] # First entry is our image paths\n",
    "label_frame = csv_frame.iloc[:, 1:] # The rest is our labels\n",
    "#Let's check if everything is OK by getting an arbitrary sample. 4 is my lucky number.\n",
    "print(image_paths[4])\n",
    "img = cv2.imread(image_paths[4])\n",
    "cv2.imshow(\"img\",img)\n",
    "cv2.waitKey(0)\n",
    "cv2.destroyAllWindows()"
   ]
  },
  {
   "cell_type": "markdown",
   "metadata": {},
   "source": [
    "If everything is alright until this far. We can start labeling our images."
   ]
  },
  {
   "cell_type": "code",
   "execution_count": 6,
   "metadata": {
    "scrolled": false
   },
   "outputs": [],
   "source": [
    "#Just initialize some parameters\n",
    "points = []\n",
    "#Pickle will be used for autosave\n",
    "filename=\"autosave_csn.pckl\"\n",
    "outfile = open(filename,'wb')\n",
    "#start with first image\n",
    "i=0\n",
    "img = cv2.imread(image_paths[i])\n",
    "h,w,c=img.shape\n",
    "#label = labels.iloc[i,:].to_numpy()\n",
    "labels = label_frame.iloc[:,:].to_numpy().astype(np.float)#You need to convert from pandas to numpy. My data type is float.\n",
    "imag=img.copy()#Just get a copy to do manupilations\n",
    "cv2.namedWindow('image')#Create our labeling window\n",
    "poly_left=labels[i,0:3]#My first 3 labels are coefficients of left polynomial\n",
    "poly_right=labels[i,3:6]#My last 3 labels are coefficients of right polynomial\n",
    "draw_lines(imag,poly_left,poly_right,w)#Lets draw the stored labels.\n",
    "cv2.imshow('image', imag)\n",
    "while True:\n",
    "    imag=img.copy()\n",
    "    cv2.setMouseCallback('image', on_mouse, 0)#Add callback function for mouse licks\n",
    "    #Since we are in a loop we redraw on every iteration\n",
    "    for j in range(len(points)):#Draw the points we stored so far\n",
    "        cv2.circle(imag,(points[j][0],points[j][1]),3,(255,0,0),-1)\n",
    "    draw_lines(imag,poly_left,poly_right,h)#Draw the polinomials we fit.\n",
    "    key = cv2.waitKey(1) & 0xFF #Detect keyboard key press\n",
    "    # By following the below convention, add your desired key press action.\n",
    "    # Maybe pressing 1 assigns selected point to first landmark etc.\n",
    "    if key == ord(\"e\"):\n",
    "        #Go to next image\n",
    "        i=i+1\n",
    "        if i>label_frame.shape[0]-1:#If this is our last image. Don't go further\n",
    "            i=label_frame.shape[0]-1\n",
    "        img= cv2.imread(image_paths[i])#Read our new image\n",
    "        pickle.dump(labels,outfile)#Autosave\n",
    "        #Get our stored labels\n",
    "        poly_left=labels[i,0:3]\n",
    "        poly_right=labels[i,3:6]\n",
    "        #Create a copy for manupilations.\n",
    "        imag=img.copy()\n",
    "        #Drwa the stored polynomials\n",
    "        draw_lines(imag,poly_left,poly_right,h)\n",
    "        cv2.imshow('image', imag)\n",
    "    if key == ord(\"q\"):\n",
    "        #Go to previous image\n",
    "        i=i-1\n",
    "        if i<0:#If this is our first image. Don't go back\n",
    "            i=0\n",
    "        #Read new image\n",
    "        img = cv2.imread(image_paths[i])\n",
    "        pickle.dump(labels,outfile)#autosave\n",
    "        #Get stored labels and draw them\n",
    "        poly_left=labels[i,0:3]\n",
    "        poly_right=labels[i,3:6]\n",
    "        imag=img.copy()\n",
    "        draw_lines(imag,poly_left,poly_right,h)\n",
    "        cv2.imshow('image', imag)\n",
    "    if key == ord(\"s\"):\n",
    "        #This adds the point selected by my mouse click to list of points I will use to fit a polynomial.\n",
    "        points.append(point)\n",
    "        #print(points) #debug\n",
    "    if key == ord(\"z\"):\n",
    "        #This resets labels and points for this image.\n",
    "        #So if we make mistake. We can delete it.\n",
    "        points=[]\n",
    "        poly_left=[0,0,0]\n",
    "        poly_right=[0,0,0]\n",
    "        labels[i,0:3]=poly_left\n",
    "        labels[i,3:6]=poly_right\n",
    "        imag=img.copy()\n",
    "    if key == ord(\"a\"):\n",
    "        #This fits left polynomil from the point list  I created earlier\n",
    "        if len(points)<2:#If there are not enough points Do nothing\n",
    "            continue\n",
    "        imag=img.copy()#Get new image\n",
    "        poly_left=get_poly(points)#Fit polynomial with the points provided\n",
    "        #print(poly_left)#debug\n",
    "        draw_lines(imag,poly_left,poly_right,h)#redraw the polynomials\n",
    "        points=[]#Reset the point storage\n",
    "        cv2.imshow('image', imag)\n",
    "        labels[i,0:3]=poly_left#assign new label to storage\n",
    "    if key == ord(\"d\"):\n",
    "        #This fits right polynomil from the point list  I created earlier\n",
    "        if len(points)<2:#If there are not enough points Do nothing\n",
    "            continue\n",
    "        imag=img.copy()#Get new image\n",
    "        poly_right=get_poly(points)#Fit polynomial with the points provided\n",
    "        #print(poly_right) #Debug\n",
    "        points=[]#Reset the point storage\n",
    "        draw_lines(imag,poly_left,poly_right,h)#redraw the polynomials\n",
    "        labels[i,3:6]=poly_right #assign new label to storage\n",
    "        cv2.imshow('image', imag)\n",
    "    # if the 'c' key is pressed, break from the loop\n",
    "    if key == ord(\"c\"):\n",
    "        #This is exit\n",
    "        label_frame.iloc[:,:]=labels#ssign Label storage to frame\n",
    "        break\n",
    "    elif key == ord(\"k\"):\n",
    "        #Exit without saving\n",
    "        break        \n",
    "csv_frame= pd.concat([image_paths, label_frame],axis = 1)#Recrate CSV frame\n",
    "csv_frame.to_csv(csv_file,index = False)#We dont want indexvalues in our CSV file\n",
    "cv2.destroyAllWindows()"
   ]
  },
  {
   "cell_type": "code",
   "execution_count": 5,
   "metadata": {},
   "outputs": [],
   "source": [
    "cv2.destroyAllWindows()#If there are syntax errors. Close the imshow"
   ]
  },
  {
   "cell_type": "markdown",
   "metadata": {},
   "source": [
    "Once you complete your labeling you can read it back in your training script like show above"
   ]
  },
  {
   "cell_type": "code",
   "execution_count": null,
   "metadata": {},
   "outputs": [],
   "source": []
  }
 ],
 "metadata": {
  "kernelspec": {
   "display_name": "Python 3.7.9 64-bit",
   "language": "python",
   "name": "python37964bit4bc89fed7be044939e048664ff2793df"
  },
  "language_info": {
   "codemirror_mode": {
    "name": "ipython",
    "version": 3
   },
   "file_extension": ".py",
   "mimetype": "text/x-python",
   "name": "python",
   "nbconvert_exporter": "python",
   "pygments_lexer": "ipython3",
   "version": "3.7.9"
  }
 },
 "nbformat": 4,
 "nbformat_minor": 4
}
